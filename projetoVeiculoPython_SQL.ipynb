{
  "nbformat": 4,
  "nbformat_minor": 0,
  "metadata": {
    "colab": {
      "name": "projetoVeiculoPython_SQL.ipynb",
      "provenance": [],
      "collapsed_sections": [],
      "toc_visible": true,
      "mount_file_id": "1hQjQnkQbFvfKpBOwXcKC39O54eHcMtgq",
      "authorship_tag": "ABX9TyMKeU/t3YtUPJsswVuX4E1z",
      "include_colab_link": true
    },
    "kernelspec": {
      "name": "python3",
      "display_name": "Python 3"
    },
    "language_info": {
      "name": "python"
    }
  },
  "cells": [
    {
      "cell_type": "markdown",
      "metadata": {
        "id": "view-in-github",
        "colab_type": "text"
      },
      "source": [
        "<a href=\"https://colab.research.google.com/github/GabrielSouza-git/projetoVeiculoPython_SQL/blob/main/projetoVeiculoPython_SQL.ipynb\" target=\"_parent\"><img src=\"https://colab.research.google.com/assets/colab-badge.svg\" alt=\"Open In Colab\"/></a>"
      ]
    },
    {
      "cell_type": "code",
      "source": [
        "# Todos os dados foram gerados pelo site: https://www.4devs.com.br/\n",
        "# Importando o módulo de acesso ao SQLite\n",
        "import sqlite3\n",
        "\n",
        "# Criando a conexão com o banco de dados. \n",
        "# Obs: Se o banco de dados não existir, ele é criado neste momento (este caso)\n",
        "con = sqlite3.connect('db_veiculo')\n",
        "\n",
        "# Criando um cursor \n",
        "# (Um cursor permite percorrer todos os registros em um conjunto de dados)\n",
        "cur = con.cursor()"
      ],
      "metadata": {
        "id": "a_3haghev9y3"
      },
      "execution_count": 1,
      "outputs": []
    },
    {
      "cell_type": "markdown",
      "source": [
        "# **1 - CREATE TABLE**\n",
        "CREATE TABLE table_name (column1 datatype, column2 datatype, ...)\n",
        "\n",
        "Os parâmetros de column especificam os nomes das colunas da tabela. O parâmetro datatype especifica o tipo de dados que a coluna pode conter (por exemplo, varchar, integer, date, etc.)"
      ],
      "metadata": {
        "id": "6JYZpIR0yXDS"
      }
    },
    {
      "cell_type": "markdown",
      "source": [
        "### *1.1 - CRIANDO TABELA CLIENTE*"
      ],
      "metadata": {
        "id": "ehTuayQIJEKL"
      }
    },
    {
      "cell_type": "code",
      "source": [
        "cur.execute(\n",
        "'''\n",
        "CREATE TABLE cliente(\n",
        "id_cliente INT PRIMARY KEY NOT NULL,\n",
        "nome VARCHAR(30) NOT NULL,\n",
        "cpf VARCHAR(11) NOT NULL,\n",
        "nascimento DATE NOT NULL,\n",
        "numero_cnh VARCHAR(11) NOT NULL,\n",
        "endereço VARCHAR(50))\n",
        "'''\n",
        ")\n",
        "# Importante fazer o commit para salvar as alterações\n",
        "con.commit()"
      ],
      "metadata": {
        "id": "gWdZAsf7JOVr"
      },
      "execution_count": 2,
      "outputs": []
    },
    {
      "cell_type": "markdown",
      "source": [
        "### *1.2 - CRIANDO TABELA FABRICANTE*"
      ],
      "metadata": {
        "id": "6IVkqVj1JOjU"
      }
    },
    {
      "cell_type": "code",
      "source": [
        "cur.execute(\n",
        "'''\n",
        "CREATE TABLE fabricante (\n",
        "id_fabricante INT PRIMARY KEY NOT NULL,\n",
        "nome_fabricante VARCHAR(30))\n",
        "'''\n",
        ")\n",
        "# Importante fazer o commit para salvar as alterações\n",
        "con.commit()"
      ],
      "metadata": {
        "id": "L760zfBzJOwm"
      },
      "execution_count": 3,
      "outputs": []
    },
    {
      "cell_type": "markdown",
      "source": [
        "### *1.3 - CRIANDO TABELA MODELO*"
      ],
      "metadata": {
        "id": "km582J_-JPAb"
      }
    },
    {
      "cell_type": "code",
      "source": [
        "cur.execute(\n",
        "'''\n",
        "CREATE TABLE modelo (\n",
        "id_modelo PRIMARY KEY,\n",
        "id_fabricante INT NOT NULL,    \n",
        "nome_modelo VARCHAR(30),\n",
        "FOREIGN KEY (id_fabricante) REFERENCES fabricante(id_fabricante))\n",
        "'''    \n",
        ")\n",
        "# Importante fazer o commit para salvar as alterações\n",
        "con.commit()"
      ],
      "metadata": {
        "id": "N0oUnvriJPND"
      },
      "execution_count": 4,
      "outputs": []
    },
    {
      "cell_type": "markdown",
      "source": [
        "### *1.4 - CRIANDO TABELA VEÍCULO*"
      ],
      "metadata": {
        "id": "BVc0krD9JXm7"
      }
    },
    {
      "cell_type": "code",
      "source": [
        "cur.execute(\n",
        "'''\n",
        "CREATE TABLE veiculo (\n",
        "id_veiculo PRIMARY KEY NOT NULL,\n",
        "id_fabricante INT,\n",
        "id_modelo INT,\n",
        "numero_placa VARCHAR(7),\n",
        "chassi VARCHAR(17),\n",
        "FOREIGN KEY (id_fabricante) REFERENCES fabricante(id_fabricante),\n",
        "FOREIGN KEY (id_modelo) REFERENCES modelo(id_modelo))'''\n",
        ")\n",
        "# Importante fazer o commit para salvar as alterações\n",
        "con.commit()"
      ],
      "metadata": {
        "id": "i6Da8oUtJc0M"
      },
      "execution_count": 5,
      "outputs": []
    },
    {
      "cell_type": "markdown",
      "source": [
        "### *1.5 - CRIANDO TABELA RESERVA*"
      ],
      "metadata": {
        "id": "OVFAEa2SJdEr"
      }
    },
    {
      "cell_type": "code",
      "source": [
        "cur.execute(\n",
        "'''\n",
        "CREATE TABLE reserva (\n",
        "id_reserva INT AUTO_INCREMENT PRIMARY KEY,\n",
        "id_cliente INT,\n",
        "id_veiculo INT NOT NULL, \n",
        "data_retirada DATETIME NOT NULL,\n",
        "data_prev_devolucao DATETIME NOT NULL,\n",
        "data_devolucao DATETIME,\n",
        "FOREIGN KEY (id_cliente) REFERENCES cliente(id_cliente),\n",
        "FOREIGN KEY (id_veiculo) REFERENCES veiculo(id_veiculo))\n",
        "'''     \n",
        ")\n",
        "# Importante fazer o commit para salvar as alterações\n",
        "con.commit()"
      ],
      "metadata": {
        "id": "nF3MLRAKJjH7"
      },
      "execution_count": 6,
      "outputs": []
    },
    {
      "cell_type": "markdown",
      "source": [
        "# **2 - INSERT INTO**\n",
        "A INSERT INTO instrução é usada para inserir novos registros em uma tabela.\n",
        "\n",
        "Especifique os nomes das colunas e os valores a serem inseridos:\n",
        "INSERT INTO table_name (column1, column2, column3, ...)"
      ],
      "metadata": {
        "id": "7PMUjqDr7p2W"
      }
    },
    {
      "cell_type": "markdown",
      "source": [
        "### *2.1 - INSERINDO CLIENTES*"
      ],
      "metadata": {
        "id": "sb0L5MICZqNg"
      }
    },
    {
      "cell_type": "code",
      "source": [
        "# Para ficar de uma forma mais dinâmica, preenchi as colunas de maneira aleatória, para isso, criei alguns blocos de notas para buscar informações dentro deles.\n",
        "# Para poder abri-los, é necessário adiciona-lós ao Google Colab conforme mostro neste link:\n",
        "\n",
        "\n",
        "# Importando a biblioteca random para gerar números aleatórios\n",
        "import random\n",
        "\n",
        "\n",
        "# Para gerar datas aleatórias, foi importado os modulos datetime e timedelta da biblioteca datetime\n",
        "from datetime import datetime, timedelta \n",
        "\n",
        "# Data\n",
        "min_ano=1952 # Não existe uma idade limite para parar de dirigir, com isso, utilizei a idade máxima de 70 anos como base.\n",
        "max_ano=2003 # Utilizei o ano máximo 2003, devido ser idade mínima de 18 anos para dirigir.\n",
        "\n",
        "inicio = datetime(min_ano, 1, 1, 00, 00, 00)\n",
        "anos = max_ano - min_ano+1\n",
        "fim = inicio + timedelta(days=365 * anos)\n",
        "\n",
        "# Lendo os nome de um bloco de notas\n",
        "lista_nomes = open(\"/content/nomes.txt\")\n",
        "nomes = lista_nomes.readlines()\n",
        "nomes = [line.rstrip() for line in nomes]\n",
        "\n",
        "# Lendo cpf's de um bloco de notas\n",
        "lista_cpf = open(\"/content/cpf.txt\")\n",
        "cpf = lista_cpf.readlines()\n",
        "cpf = [line.rstrip() for line in cpf]\n",
        "\n",
        "\n",
        "# Lendo cnh's de um bloco de notas\n",
        "lista_cnh = open(\"/content/cnh.txt\")\n",
        "cnh = lista_cnh.readlines()\n",
        "cnh = [line.rstrip() for line in cnh]\n",
        "\n",
        "# Lendo endereços de um bloco de notas\n",
        "lista_endereco = open(\"/content/endereço.txt\")\n",
        "endereco = lista_endereco.readlines()\n",
        "endereco = [line.rstrip() for line in endereco]\n",
        "\n",
        "# Foi utilizado um for com o comando range para ir de 1 a 100\n",
        "for loop in range(1,101):\n",
        "  # Escolhendo nomes aleatórios sem se repetirem, para isso, assim que um nome for escolhido, ele será apagado da lista para que não possa ser escolhido novamente\n",
        "  nomes1 = random.choice(nomes)\n",
        "  nomes.remove(nomes1)\n",
        "\n",
        "  # Escolhendo cpf's aleatórios sem se repetirem\n",
        "  cpf1 = random.choice(cpf)\n",
        "  cpf.remove(cpf1)\n",
        "\n",
        "  # Escolhendo cnh's aleatórios sem se repetirem\n",
        "  cnh1 = random.choice(cnh)\n",
        "  cnh.remove(cnh1)\n",
        "\n",
        "  # Escolhendo endereços aleatórios\n",
        "  endereco1 = random.choice(endereco)\n",
        "  \n",
        "  # Escolhendo datas aleatórias\n",
        "  random_date = inicio + (fim - inicio) * random.random()\n",
        "\n",
        "  \n",
        "  #Inserindo informações na tabela cliente\n",
        "  cur.execute(f' INSERT INTO cliente VALUES ({loop},\"{nomes1}\",{cpf1}, \"{random_date}\",  {cnh1}, \"{endereco1}\")')"
      ],
      "metadata": {
        "id": "LVaHu1D77r6O"
      },
      "execution_count": 7,
      "outputs": []
    },
    {
      "cell_type": "code",
      "source": [
        "# Query de consulta para verificar se as informações foram inseridas corretamente na tabela Cliente\n",
        "con = cur.execute (' SELECT * FROM cliente').fetchall()\n",
        "\n",
        "#Loop\n",
        "for Linha in con:\n",
        "  print (Linha)"
      ],
      "metadata": {
        "colab": {
          "base_uri": "https://localhost:8080/"
        },
        "id": "OLs52mqZIpmW",
        "outputId": "25db8e7a-7999-494f-9dab-74da37d9f9c8"
      },
      "execution_count": 8,
      "outputs": [
        {
          "output_type": "stream",
          "name": "stdout",
          "text": [
            "(1, 'Enzo Gabriel da Rocha', '55791954000', '1998-02-08 11:40:29.194449', '59365168723', 'Rua Tancredo Neves, nº 140, Nova Iguaçu/RJ')\n",
            "(2, 'Luiz Henrique Rodrigues', '53769469089', '1960-02-24 08:27:50.968450', '33717888489', 'Rua Euclides Souza Brito, nº 48, Rio de Janeiro/RJ')\n",
            "(3, 'Vitor Vieira', '64381391063', '1982-06-12 18:17:17.826441', '99809165008', 'Rua Arnaldo Gustavo Ritter, nº 9, Belo Horizonte/MG')\n",
            "(4, 'Luiz Otávio Oliveira', '44718726050', '1953-11-28 04:43:37.151253', '26972048114', 'Rua Santana, nº 668, São Paulo/SP')\n",
            "(5, 'Ana Sophia da Cruz', '3053874059', '1992-12-07 19:51:36.585490', '83958163372', 'Rua Pantanal, nº 861, Belo Horizonte/MG')\n",
            "(6, 'Esther Fogaça', '3830540019', '1961-11-17 19:38:11.785015', '22651116531', 'Rua Tataíra, nº 807, Belo Horizonte/MG')\n",
            "(7, 'Bernardo Ramos', '77389837012', '1970-01-06 02:22:34.288252', '11961420776', 'Rua Catalão, nº 718, Petrópolis/RJ')\n",
            "(8, 'Maria Clara Freitas', '62135842001', '1998-05-30 06:04:10.200455', '63466547752', 'Rua São José, nº 971, Belo Horizonte/MG')\n",
            "(9, 'Nicolas da Costa', '2473015074', '1972-08-15 09:06:15.052237', '43545793300', 'Rua Catalão, nº 718, Petrópolis/RJ')\n",
            "(10, 'Laís Gonçalves', '32849378038', '1994-11-23 18:50:10.571011', '685268801', 'Rua Francisco Joaquim dos Santos, nº 541, Santa Luzia/MG')\n",
            "(11, 'Lara Castro', '6648400005', '1983-07-12 21:26:02.920264', '72305931950', 'Praça Construtor João José Mendonça, nº 152, Juiz de Fora/MG')\n",
            "(12, 'Ana Lívia da Cunha', '95315578020', '1981-12-05 06:16:25.131810', '67365118396', 'Rua Jamandi, nº 445, São Paulo/SP')\n",
            "(13, 'Lara Dias', '23974414037', '1959-03-01 15:43:15.150410', '49534163884', 'Praça Domício Mendes, nº 89, São Paulo/SP')\n",
            "(14, 'Helena da Conceição', '99866132056', '1957-08-12 17:18:42.320429', '30431409800', 'Rua João Epifânio Pereira, nº 168, Belo Horizonte/MG')\n",
            "(15, 'Melissa Rezende', '30644136006', '1999-09-23 11:56:15.645123', '41828202548', 'Rua Santa Edwiges, nº 365, Barueri/SP')\n",
            "(16, 'Elisa Melo', '56960685028', '1971-07-04 18:09:05.118639', '21250264272', 'Rua Mirante, nº 433, São Paulo/SP')\n",
            "(17, 'Leonardo da Paz', '93479342086', '1955-02-13 01:17:43.304000', '81387171134', 'Travessa Quatro de Janeiro, nº 235, Uberlândia/MG')\n",
            "(18, 'Sophia da Cruz', '27406010001', '1976-03-30 01:09:31.726993', '80534405726', 'Rua Blasco Ibánez, nº 200, Rio de Janeiro/RJ')\n",
            "(19, 'Erick da Costa', '20395473047', '1996-06-08 16:18:37.166829', '46058275061', 'Rua São José, nº 971, Belo Horizonte/MG')\n",
            "(20, 'Sarah Teixeira', '22232702049', '1998-04-15 18:05:09.316278', '76075004989', 'Rua Buriti, nº 65, Belo Horizonte/MG')\n",
            "(21, 'Renan Rezende', '64117670093', '2002-03-04 13:51:11.003778', '81530848502', 'Rua Norberto Lessa, nº 825, Belo Horizonte/MG')\n",
            "(22, 'Benjamin da Paz', '33201234087', '1973-01-10 17:14:00.566286', '37212263133', 'Rua Jurandir de Brito, nº 978, Rio de Janeiro/RJ')\n",
            "(23, 'Kamilly Aragão', '78045943050', '1998-07-14 14:12:23.523982', '48703494400', 'Rua Raimundo Bezerra de Farias, nº 218, São Paulo/SP')\n",
            "(24, 'Rafael Pires', '39344301042', '1978-12-19 22:06:46.491068', '5934378808', 'Travessa Bambus, nº 714, Belo Horizonte/MG')\n",
            "(25, 'Pedro Miguel Castro', '38163832037', '1975-01-25 13:09:44.612097', '69007249459', 'Rua Flamengo, nº 332, Campinas/SP')\n",
            "(26, 'Luiz Henrique da Paz', '94325823026', '1975-04-09 05:33:05.567675', '97037625871', 'Rua São Jorge, nº 15, Rio de Janeiro/RJ')\n",
            "(27, 'Enrico Pinto', '62037654065', '1994-02-25 20:33:32.217445', '16771108526', 'Rua Vinte de Março, nº 83, Uberlândia/MG')\n",
            "(28, 'Luana Alves', '31299194060', '1964-08-26 20:29:56.310747', '94559633976', 'Praça Hanleto Godois, nº 242, Belo Horizonte/MG')\n",
            "(29, 'Guilherme Sales', '19063481039', '1984-03-03 01:47:37.576044', '21751515990', 'Rua PH 15, nº 624, Presidente Prudente/SP')\n",
            "(30, 'Natália Silveira', '51627042024', '1957-05-30 03:29:48.996921', '44012793805', 'Beco Hélcio Carvalho de Oliveira, nº 980, Santa Luzia/MG')\n",
            "(31, 'Enzo Gabriel Campos', '89911220001', '1970-10-01 15:07:49.757383', '31216974623', 'Rua José João Junqueira, nº 429, Rio de Janeiro/RJ')\n",
            "(32, 'Lucas Cardoso', '66587722075', '2002-10-08 04:30:40.213512', '97327890442', 'Rua Ponta Negra, nº 242, São Paulo/SP')\n",
            "(33, 'Gabriela Costela', '38135905009', '1956-01-24 04:22:53.512227', '53284905874', 'Rua Aeroporto de Imperatriz, nº 156, São Paulo/SP')\n",
            "(34, 'Nina Alves', '57495644010', '1978-08-26 21:02:58.357285', '35391080834', 'Rua Conrado Hoffmann, nº 242, Rio de Janeiro/RJ')\n",
            "(35, 'Giovanna Rodrigues', '17849137078', '1952-01-10 21:21:55.829105', '45974804210', 'Rua Pedro Álvarez Cabral, nº 844, Campinas/SP')\n",
            "(36, 'Kaique Freitas', '40300998074', '1995-12-06 16:36:21.364717', '76828630211', 'Rua Catalão, nº 718, Petrópolis/RJ')\n",
            "(37, 'Brenda Nascimento', '78708188017', '1996-10-22 07:16:40.153276', '35406360674', 'Avenida Dom Carlos Carmelo, nº 885, Belo Horizonte/MG')\n",
            "(38, 'Alexia Campos', '12958334090', '1955-06-06 13:38:03.460922', '53808109777', 'Avenida Senador Rui Palmeira, nº 24, Rio de Janeiro/RJ')\n",
            "(39, 'Sophia Fogaça', '47443328036', '1970-04-24 10:51:09.127808', '97457213051', 'Rua Chico Conrado, nº 943, São Paulo/SP')\n",
            "(40, 'Lucas Gabriel Pinto', '5645471075', '1969-08-27 12:40:47.461818', '24027504929', 'Praça Hanleto Godois, nº 242, Belo Horizonte/MG')\n",
            "(41, 'Ana Ferreira', '54917890039', '1967-06-15 04:35:43.538862', '51392000724', 'Rua Mirante, nº 433, São Paulo/SP')\n",
            "(42, 'Vitória da Mata', '95764002010', '1978-06-02 13:28:35.688582', '32518250594', 'Rua Blasco Ibánez, nº 200, Rio de Janeiro/RJ')\n",
            "(43, 'Lorenzo Carvalho', '88298765001', '1984-01-29 04:36:29.227951', '25252324397', 'Rua Ponta Negra, nº 242, São Paulo/SP')\n",
            "(44, 'Raquel Nascimento', '46560164039', '1998-10-10 20:32:04.162417', '88497283600', 'Avenida Dom Carlos Carmelo, nº 885, Belo Horizonte/MG')\n",
            "(45, 'Francisco Rezende', '81415673063', '1967-02-08 14:23:40.687568', '3818832065', 'Travessa Quatro, nº 555, São Paulo/SP')\n",
            "(46, 'Sarah Sales', '2736009070', '1978-02-22 07:18:26.442648', '69735471814', 'Rua Raimundo Bezerra de Farias, nº 218, São Paulo/SP')\n",
            "(47, 'Kevin Viana', '20206932081', '1961-07-29 05:24:35.143945', '58913087997', 'Rua Retiro Saudoso, nº 700, São Paulo/SP')\n",
            "(48, 'Maria Clara Lopes', '40604327099', '2002-09-30 11:04:05.973071', '76093937524', 'Rua Ernesto Guevara, nº 745, Teófilo Otoni/MG')\n",
            "(49, 'Juan Porto', '75914621054', '1991-06-26 19:20:22.219528', '80363420340', 'Rua Norberto Lessa, nº 825, Belo Horizonte/MG')\n",
            "(50, 'Caroline Campos', '10524771006', '1978-08-18 20:24:06.829217', '89951399571', 'Rua Conrado Hoffmann, nº 242, Rio de Janeiro/RJ')\n",
            "(51, 'Ian Teixeira', '77425687054', '1985-07-18 11:24:06.189646', '35391080834', 'Rua Estrela do Sul, nº 505, Belo Horizonte/MG')\n",
            "(52, 'Gustavo Lima', '87805686025', '1968-11-08 15:16:15.477417', '28918055510', 'Quadra Parque Piauí, nº 326, São Paulo/SP')\n",
            "(53, 'Eloah Lopes', '80533829089', '1973-05-05 03:59:18.993061', '45682098879', 'Rua Professor Clóvis da Silva Alves, nº 871, Belo Horizonte/MG')\n",
            "(54, 'Enzo Gabriel da Cunha', '63388696098', '1973-10-09 21:50:53.970512', '41400437894', 'Rua Flamengo, nº 332, Campinas/SP')\n",
            "(55, 'Yuri Nunes', '32542212066', '1957-04-10 09:34:54.126828', '86639868381', 'Rua Jerusalém, nº 69, Campinas/SP')\n",
            "(56, 'Beatriz Costa', '9426302034', '1961-03-02 17:22:51.695461', '32584925222', 'Rua Senhora da Paz, nº 815, Barueri/SP')\n",
            "(57, 'Luana Pires', '54306907082', '1969-07-03 04:22:31.957756', '21324458050', 'Rua Cinco, nº 864, São Paulo/SP')\n",
            "(58, 'Lorenzo Oliveira', '65065487030', '1991-07-16 15:43:34.628599', '30945107140', 'Travessa Quatro de Janeiro, nº 235, Uberlândia/MG')\n",
            "(59, 'Matheus Duarte', '54681536024', '1960-03-15 09:09:58.700448', '6584882356', 'Rua Fábio Anchieta, nº 723, Rio de Janeiro/RJ')\n",
            "(60, 'Ana Beatriz Cavalcanti', '67117423030', '2000-04-21 07:04:26.873325', '25713831284', 'Rua Francisco Joaquim dos Santos, nº 726, Belo Horizonte/MG')\n",
            "(61, 'Ana Sophia Cavalcanti', '30399175016', '1961-05-06 19:18:49.477523', '54752314247', 'Rua Jerusalém, nº 69, Campinas/SP')\n",
            "(62, 'Cecília Carvalho', '19050015093', '1971-11-26 13:45:07.418938', '2389170904', 'Rua Pantanal, nº 861, Belo Horizonte/MG')\n",
            "(63, 'Pedro Lucas Monteiro', '22185160044', '1984-08-22 17:24:08.060158', '29800607968', 'Rua Ponta Negra, nº 242, São Paulo/SP')\n",
            "(64, 'Emanuelly Mendes', '24078390056', '1971-01-01 15:18:55.005232', '65291745745', 'Rua Conrado Hoffmann, nº 242, Rio de Janeiro/RJ')\n",
            "(65, 'Felipe Dias', '11342022025', '1955-05-09 22:01:14.525959', '32220441771', 'Rua Ponta Negra, nº 242, São Paulo/SP')\n",
            "(66, 'Luiz Gustavo Pinto', '74221615079', '1983-08-03 07:02:39.223591', '62713164167', 'Rua Euclides Souza Brito, nº 48, Rio de Janeiro/RJ')\n",
            "(67, 'Isabelly Araújo', '48311915075', '1975-07-03 16:13:30.586815', '86190795489', 'Rua Buriti, nº 65, Belo Horizonte/MG')\n",
            "(68, 'Benício Mendes', '73619696071', '1983-07-14 15:28:37.387724', '98775221680', 'Rua Euclides Souza Brito, nº 48, Rio de Janeiro/RJ')\n",
            "(69, 'Thomas Sales', '24305065053', '2001-11-01 21:43:15.891166', '60535153259', 'Rua Granja do Torto, nº 941, Rio de Janeiro/RJ')\n",
            "(70, 'Brenda Rodrigues', '81183658087', '1968-01-19 20:19:55.463663', '67207386862', 'Rua Pau Darco, nº 681, São Paulo/SP')\n",
            "(71, 'Gustavo Henrique Ramos', '19193072066', '1960-04-22 15:18:10.666648', '7287431705', 'Rua Armando Pimentel, nº 298, Santa Luzia/MG')\n",
            "(72, 'Maitê da Mota', '90595947034', '1997-07-21 01:17:54.033626', '36215879923', 'Rua Granja do Torto, nº 941, Rio de Janeiro/RJ')\n",
            "(73, 'Danilo Barros', '6500679083', '1970-09-13 11:35:53.295638', '72579774387', 'Rua Aeroporto de Imperatriz, nº 156, São Paulo/SP')\n",
            "(74, 'Diogo Lima', '65966849030', '1988-05-28 06:10:18.280870', '1419821396', 'Rua Francisco Joaquim dos Santos, nº 726, Belo Horizonte/MG')\n",
            "(75, 'Pietra Fernandes', '49690002040', '1972-04-10 19:33:55.882170', '43665481403', 'Rua Mirante, nº 433, São Paulo/SP')\n",
            "(76, 'Ana Clara Ramos', '52260828000', '1977-08-31 21:03:55.298298', '25730180657', 'Rua Jurandir de Brito, nº 978, Rio de Janeiro/RJ')\n",
            "(77, 'Luiza Moura', '23831077002', '1992-01-05 13:05:27.325178', '43986825730', 'Rua Granja do Torto, nº 941, Rio de Janeiro/RJ')\n",
            "(78, 'Vitor Hugo Porto', '50446886068', '2000-02-21 12:41:15.314259', '33868732924', 'Rua Pedro Álvarez Cabral, nº 844, Campinas/SP')\n",
            "(79, 'Lívia Gonçalves', '907181007', '1952-08-04 09:04:25.702469', '47266137341', 'Rua Dezoito, nº 224, Barueri/SP')\n",
            "(80, 'Henrique da Mata', '65871268048', '1961-10-27 06:21:57.834016', '51094268261', 'Rua Mirante, nº 433, São Paulo/SP')\n",
            "(81, 'Sofia da Mata', '99401755078', '2003-03-10 00:58:09.027623', '26849478909', 'Rua Aeroporto de Imperatriz, nº 156, São Paulo/SP')\n",
            "(82, 'Yuri da Cruz', '45426132089', '1960-10-17 00:33:08.393744', '11186610630', 'Rua Jurandir de Brito, nº 978, Rio de Janeiro/RJ')\n",
            "(83, 'Heitor Ferreira', '13287102036', '1971-03-18 11:29:04.022657', '26718163352', 'Rua Professor Clóvis da Silva Alves, nº 871, Belo Horizonte/MG')\n",
            "(84, 'Leonardo Santos', '90549270035', '2002-06-19 11:02:44.624354', '33205218513', 'Rua Buriti, nº 65, Belo Horizonte/MG')\n",
            "(85, 'Maria Fernanda Gomes', '90226196054', '1983-04-12 20:52:00.452157', '70899285846', 'Avenida Álvaro Serra Castro, nº 528, São Paulo/SP')\n",
            "(86, 'Lorena Pinto', '10523519052', '1960-01-01 12:51:27.323296', '21045964715', 'Rua Dona Henriqueta Vicente de Almeida, nº 385, Juiz de Fora/MG')\n",
            "(87, 'Emanuel Carvalho', '21656901021', '1982-12-17 05:35:57.876526', '91840820977', 'Rua Itália, nº 360, Uberlândia/MG')\n",
            "(88, 'Bárbara Cardoso', '81401703054', '2002-05-26 12:40:06.883541', '6212013657', 'Rua Senhora da Paz, nº 815, Barueri/SP')\n",
            "(89, 'Eduardo da Cunha', '77823885034', '1964-08-21 14:25:40.427985', '61384081897', 'Rua Vicente de Carvalho, nº 562, Petrópolis/RJ')\n",
            "(90, 'Renan da Rosa', '10521371058', '1962-01-29 10:14:27.722134', '92197709083', 'Praça Domício Mendes, nº 89, São Paulo/SP')\n",
            "(91, 'Gustavo Gomes', '72564923089', '1989-02-20 01:46:48.471917', '73722864401', 'Rua José Aurélio da Silva, nº 606, São Paulo/SP')\n",
            "(92, 'Ryan Rodrigues', '94232970053', '1985-04-06 23:54:01.567386', '19962419842', 'Rua PH 15, nº 624, Presidente Prudente/SP')\n",
            "(93, 'Manuela Nascimento', '88300629017', '1975-05-11 01:29:30.502490', '53524204530', 'Rua Jerusalém, nº 69, Campinas/SP')\n",
            "(94, 'Ana Sophia Freitas', '74313393056', '1979-08-17 04:06:59.150135', '69837796056', 'Rua Retiro Saudoso, nº 700, São Paulo/SP')\n",
            "(95, 'Lucas Gabriel Cardoso', '24573441077', '1971-09-18 18:15:52.097747', '7942909861', 'Rua Chico Conrado, nº 943, São Paulo/SP')\n",
            "(96, 'Alexandre Gonçalves', '39697383006', '1985-02-25 22:55:44.358933', '21303365037', 'Rua Chico Conrado, nº 943, São Paulo/SP')\n",
            "(97, 'Luiz Henrique Ribeiro', '39961261070', '1966-04-14 18:43:20.272694', '43234700966', 'Rua Vinte de Março, nº 83, Uberlândia/MG')\n",
            "(98, 'Davi Lima', '1157021050', '1976-06-30 12:08:26.863711', '33902033514', 'Rua 1, nº 833, Itaquaquecetuba/SP')\n",
            "(99, 'Diego Rodrigues', '38694582082', '1955-08-06 10:59:43.408851', '84256926562', 'Rua Nery Luiz do Prado, nº 321, Uberlândia/MG')\n",
            "(100, 'Mirella Lopes', '19021070049', '1961-12-17 19:19:38.206074', '69348401866', 'Praça Construtor João José Mendonça, nº 152, Juiz de Fora/MG')\n"
          ]
        }
      ]
    },
    {
      "cell_type": "markdown",
      "source": [
        "### *2.2 - INSERINDO FABRICANTES*"
      ],
      "metadata": {
        "id": "SXhDxqj9Zk95"
      }
    },
    {
      "cell_type": "code",
      "source": [
        "# Aqui está a lista de fabricantes que temos no projeto\n",
        "fabricantes = ['FIAT', 'CHEVROLET','VOLKSWAGEN','FORD','AUDI', 'MERCEDES', 'JEEP']\n",
        "\n",
        "# Foi feito um range para termos o número de fabricantes, neste caso, serão 7\n",
        "id_f = range(1,8)\n",
        "\n",
        "for i in range(len(fabricantes)):\n",
        "  id_f1 = id_f[i]\n",
        " \n",
        "  \n",
        "  #Inserindo informações na tabela fabricante\n",
        "  cur.execute(f' INSERT INTO fabricante VALUES ({id_f1},\"{fabricantes[i]}\")')"
      ],
      "metadata": {
        "id": "T1m8V6_cYUFD"
      },
      "execution_count": 9,
      "outputs": []
    },
    {
      "cell_type": "code",
      "source": [
        "# Query de consulta para verificar se as informações foram inseridas corretamente na tabela Fabricante\n",
        "con = cur.execute (' SELECT * FROM fabricante').fetchall()\n",
        "\n",
        "#Loop\n",
        "for Linha in con:\n",
        "  print (Linha)"
      ],
      "metadata": {
        "colab": {
          "base_uri": "https://localhost:8080/"
        },
        "id": "wj8CxDBBZQZR",
        "outputId": "8cbf69a2-afbf-4db3-e729-16d18afd64c5"
      },
      "execution_count": 10,
      "outputs": [
        {
          "output_type": "stream",
          "name": "stdout",
          "text": [
            "(1, 'FIAT')\n",
            "(2, 'CHEVROLET')\n",
            "(3, 'VOLKSWAGEN')\n",
            "(4, 'FORD')\n",
            "(5, 'AUDI')\n",
            "(6, 'MERCEDES')\n",
            "(7, 'JEEP')\n"
          ]
        }
      ]
    },
    {
      "cell_type": "markdown",
      "source": [
        "### *2.3 - INSERINDO MODELOS*"
      ],
      "metadata": {
        "id": "jD3F3_uxZ7xJ"
      }
    },
    {
      "cell_type": "code",
      "source": [
        "# Importando a biblioteca numpy para realizarmos algumas operações matemáticas\n",
        "import numpy as np\n",
        "\n",
        "# Aqui está a lista de modelos que temos no projeto\n",
        "modelos = ['PULSE', 'ARGO','ONIX','CRUZE','POLO','JETTA', 'BRONCO SPORT', 'TERRITORY','A4','Q5', 'GLB SUV', 'GLA SUV','WRANGLER', 'RENEGADE']\n",
        "\n",
        "# Foi utilizado o numpy para repetir duas vezes cada vetor do \"id_f\" criado anteriormente\n",
        "id_fab = np.repeat(id_f,2) \n",
        "\n",
        "# Utilizando um range para termos o número de modelos, neste caso, serão 14\n",
        "id_m = range(1,15) #id_modelo\n",
        "\n",
        "for i in range(len(modelos)):\n",
        "  id_m1 = id_m[i]\n",
        "  id_fab1 = id_fab[i] \n",
        "  \n",
        "  #Inserindo informações na tabela modelo\n",
        "  cur.execute(f' INSERT INTO modelo VALUES ({id_m1}, {id_fab1}, \"{modelos[i]}\")')"
      ],
      "metadata": {
        "id": "t9oD6i32aBvo"
      },
      "execution_count": 11,
      "outputs": []
    },
    {
      "cell_type": "code",
      "source": [
        "# Query de consulta para verificar se as informações foram inseridas corretamente na tabela Modelo\n",
        "con = cur.execute (' SELECT * FROM modelo').fetchall()\n",
        "\n",
        "#Loop\n",
        "for Linha in con:\n",
        "  print (Linha)"
      ],
      "metadata": {
        "colab": {
          "base_uri": "https://localhost:8080/"
        },
        "id": "aL17rNRD3fHm",
        "outputId": "e716e964-4a78-4c6f-fce9-4bca3de79447"
      },
      "execution_count": 12,
      "outputs": [
        {
          "output_type": "stream",
          "name": "stdout",
          "text": [
            "(1, 1, 'PULSE')\n",
            "(2, 1, 'ARGO')\n",
            "(3, 2, 'ONIX')\n",
            "(4, 2, 'CRUZE')\n",
            "(5, 3, 'POLO')\n",
            "(6, 3, 'JETTA')\n",
            "(7, 4, 'BRONCO SPORT')\n",
            "(8, 4, 'TERRITORY')\n",
            "(9, 5, 'A4')\n",
            "(10, 5, 'Q5')\n",
            "(11, 6, 'GLB SUV')\n",
            "(12, 6, 'GLA SUV')\n",
            "(13, 7, 'WRANGLER')\n",
            "(14, 7, 'RENEGADE')\n"
          ]
        }
      ]
    },
    {
      "cell_type": "markdown",
      "source": [
        "### *2.4 - INSERINDO VEÍCULOS*"
      ],
      "metadata": {
        "id": "Twn9WxTw83-c"
      }
    },
    {
      "cell_type": "code",
      "source": [
        "# Foi feito um range para termos o número de veículos, neste caso, serão 100 veículos cadastrados\n",
        "id_veic = range(1,101)      \n",
        "\n",
        "# Lendo números de placas de um bloco de notas\n",
        "lista_placa = open(\"/content/n_placa.txt\")\n",
        "n_placa = lista_placa.readlines()\n",
        "n_placa = [line.rstrip() for line in n_placa]\n",
        "\n",
        "# Lendo números de chassi de um bloco de notas\n",
        "lista_chassi = open(\"/content/n_chassi.txt\")\n",
        "n_chassi = lista_chassi.readlines()\n",
        "n_chassi = [line.rstrip() for line in n_chassi]\n",
        "\n",
        "\n",
        "i = 0\n",
        "\n",
        "# Utilizando a função while(enquanto) para que a função se repita até que a varíavel i sejá diferente de 100\n",
        "while i != 100:  \n",
        "\n",
        "  # Escolhendo um valor aleatório do id_f já utilizado anteriormente\n",
        "  fabricante1 = random.choice(id_f) \n",
        "\n",
        "  # Escolhendo um valor aleatório do id_m já utilizado anteriormente\n",
        "  modelo1 = random.choice(id_m)\n",
        "\n",
        "  id_veic1 = id_veic[i]\n",
        "\n",
        "  # Utilindo a função if (se) para que não seja possível, por exemplo, o Fabricante Ford ter um Modelo Renegade, que é do Fabricante JEEP\n",
        "  if fabricante1 == 1 and (modelo1 == 1 or modelo1 == 2) or fabricante1 == 2 and (modelo1 == 3 or modelo1 == 4) or fabricante1 == 3 and (modelo1 == 5 or modelo1 == 6) or fabricante1 == 4 and (modelo1 == 7 or modelo1 == 8) or fabricante1 == 5 and (modelo1 == 9 or modelo1 == 10) or fabricante1 == 6 and (modelo1 == 11 or modelo1 == 12) or fabricante1 == 7 and (modelo1 == 13 or modelo1 == 14):\n",
        "\n",
        "    # Escolhendo números de placas aleatórios sem se repetirem \n",
        "    n_placa1 = random.choice(n_placa)\n",
        "    n_placa.remove(n_placa1)\n",
        "\n",
        "    # Escolhendo números de chassi aleatórios sem se repetirem\n",
        "    n_chassi1 = random.choice(n_chassi)\n",
        "    n_chassi.remove(n_chassi1)\n",
        "\n",
        "    # Escolhendo cliente aleatório sem se repetir #tvz nao precisa desse\n",
        " \n",
        "\n",
        "    # Sempre que o if for satisfeito, somar i+1\n",
        "    i = i+1\n",
        "\n",
        "    #Inserir informaçao na tabela veiculo\n",
        "    cur.execute(f' INSERT INTO veiculo VALUES ({i}, {fabricante1}, {modelo1}, \"{n_placa1}\", \"{n_chassi1}\")')\n",
        "\n",
        "  else:\n",
        "    i = i\n"
      ],
      "metadata": {
        "id": "oNbnyC6_Dbdo"
      },
      "execution_count": 13,
      "outputs": []
    },
    {
      "cell_type": "code",
      "source": [
        "# Query de consulta para verificar se as informações foram inseridas corretamente na tabela Veiculo\n",
        "con = cur.execute (' SELECT * FROM veiculo').fetchall()\n",
        "\n",
        "#Loop\n",
        "for Linha in con:\n",
        "  print (Linha)"
      ],
      "metadata": {
        "colab": {
          "base_uri": "https://localhost:8080/"
        },
        "id": "9lHIMrXhF0e9",
        "outputId": "b4db5142-2407-43b8-a790-dcd346450425"
      },
      "execution_count": 14,
      "outputs": [
        {
          "output_type": "stream",
          "name": "stdout",
          "text": [
            "(1, 2, 3, 'JML0024', '1Vh385Ch1AG6u6018')\n",
            "(2, 1, 1, 'MUF4031', '2gTZ8MepdKAa26742')\n",
            "(3, 4, 7, 'HMW9279', '2A97beEX7A75y6262')\n",
            "(4, 7, 14, 'HST1697', '6AuGNPAXcYBXP5205')\n",
            "(5, 3, 5, 'LZF3566', '1AWTG53Af8PrA6861')\n",
            "(6, 2, 3, 'NAS6300', '1C9J83ap14AjU0496')\n",
            "(7, 1, 2, 'NAO7254', '8Bs1UT47FTt2c3833')\n",
            "(8, 3, 5, 'MWY8771', '2ADNNxd7V8Z645016')\n",
            "(9, 4, 8, 'MJB5406', '8AAwNEfgxAgAA6574')\n",
            "(10, 5, 10, 'JDX4244', '51VhsVrEPxkRx3600')\n",
            "(11, 4, 7, 'HSK3753', '2KAbU1UA0wayA0343')\n",
            "(12, 7, 14, 'LWO9146', '1AraTDwpAlfD09327')\n",
            "(13, 6, 12, 'HOR8837', '8vvRByAJ1suH87145')\n",
            "(14, 5, 9, 'ERG5682', '4LDA14wK3HAZ68414')\n",
            "(15, 4, 7, 'JME0628', '4bhn92r4V5Xf52259')\n",
            "(16, 2, 3, 'MLK2526', '7g05Z6MCSX70K6416')\n",
            "(17, 6, 12, 'MUT4333', '12PnA5dDykXZg4595')\n",
            "(18, 7, 14, 'IAK2822', '1kJR6g07zZrEm9183')\n",
            "(19, 2, 3, 'HQK7729', '1Sf1ccEKScN763376')\n",
            "(20, 6, 12, 'JOX4057', '24G6TYAJBJrZd6158')\n",
            "(21, 6, 11, 'MCF9319', '8MmxBAM7YYUD49662')\n",
            "(22, 2, 4, 'MNN0728', '8TA77YlAjPCZK1249')\n",
            "(23, 4, 7, 'KGV6940', '76BAm7Sv407Ll7030')\n",
            "(24, 4, 7, 'LWD5249', '2dAPh5X3hgaAc9065')\n",
            "(25, 3, 5, 'NAA9649', '7UCZveP9n4ZAA8880')\n",
            "(26, 7, 13, 'NAN0408', '5a3lRZnsUA4da7589')\n",
            "(27, 5, 9, 'KBV3725', '76n1GdgZs20117874')\n",
            "(28, 3, 6, 'JTB2207', '3AA9YP2651T116061')\n",
            "(29, 2, 3, 'MAH2497', '5z0A32F2FAmG02304')\n",
            "(30, 3, 6, 'BTP2696', '3nCeAmp0AfHU35299')\n",
            "(31, 2, 4, 'MWN6924', '4xy06T7AK7AXA7110')\n",
            "(32, 1, 1, 'LVM0541', '6Hrbxg5JAHVm19958')\n",
            "(33, 2, 4, 'MBO2685', '5AAAVwyl0CvaH1775')\n",
            "(34, 1, 2, 'JYF9768', '7APu3AmulAnd33459')\n",
            "(35, 1, 2, 'MWN7578', '5sBLLBcuY5uA81963')\n",
            "(36, 3, 6, 'FRC5522', '4A3t24NvtzPL49971')\n",
            "(37, 5, 10, 'JSA7180', '6W0tMJ4g6CH5F4345')\n",
            "(38, 4, 8, 'MOL8987', '6V8F8hCALyXJx6771')\n",
            "(39, 2, 4, 'MFR8488', '2ZCwAFLXaC3ZN1641')\n",
            "(40, 3, 5, 'HPA4858', '29Z2371eET5g16872')\n",
            "(41, 7, 14, 'FQX2206', '6342neU0zhp0K8905')\n",
            "(42, 5, 9, 'NBP8154', '4AA8CZzA6FdAH6353')\n",
            "(43, 4, 7, 'MUX8468', '47AVF2sxPcCkf0772')\n",
            "(44, 7, 13, 'IDW7122', '10f488081C0Me1933')\n",
            "(45, 1, 1, 'LVJ9645', '6XAbnX0j7fn1s4313')\n",
            "(46, 6, 11, 'LVU4880', '33ln5Z74YATdY9186')\n",
            "(47, 3, 5, 'NAJ1425', '21M0ng5Ds1CVT1751')\n",
            "(48, 1, 1, 'IRC2338', '6b7CA8BZ5CYm32710')\n",
            "(49, 1, 2, 'JJI6924', '1s3Se50lJjHeK6794')\n",
            "(50, 7, 13, 'HZZ1316', '7u0kH0tSDS0bt3907')\n",
            "(51, 1, 2, 'MYJ9468', '8bFLVFnCYxA4h4092')\n",
            "(52, 4, 8, 'JTS8751', '136UxWyMwx35A6690')\n",
            "(53, 7, 13, 'NAL7485', '65pTW3WmbAg634332')\n",
            "(54, 2, 3, 'NEM3609', '1DuAx6XPhmU7K4942')\n",
            "(55, 6, 11, 'MWJ7240', '1uaDAdWg5ssm55981')\n",
            "(56, 3, 5, 'HZR4498', '26PKVUCjzrAE78337')\n",
            "(57, 5, 10, 'HOU0427', '1DDwA1RB6UCva9281')\n",
            "(58, 2, 3, 'LWM2166', '2Db2Hkennml8y3086')\n",
            "(59, 4, 8, 'NEQ4945', '7eZU7cBU9UhNt7571')\n",
            "(60, 7, 13, 'GXV8930', '4sNHSzB7EXce67634')\n",
            "(61, 3, 6, 'JRN1544', '7A9RktZYwApYz5256')\n",
            "(62, 2, 3, 'MSE5108', '84l1BMmeP0tTs9312')\n",
            "(63, 7, 14, 'LVZ8762', '6x9B7X11k0bWm7600')\n",
            "(64, 2, 4, 'NEI1279', '59YcejvMKA5Ep7495')\n",
            "(65, 2, 3, 'MRR9803', '39pAd244M6PDL5762')\n",
            "(66, 1, 2, 'JND2004', '2zCsrttUtR88M1252')\n",
            "(67, 3, 5, 'HPR2108', '2TdaLZVyn4jA00849')\n",
            "(68, 6, 12, 'MHV1219', '2DD3WAAE28ZEV3975')\n",
            "(69, 1, 2, 'LVS5149', '6N2MgcGjUPbJF3196')\n",
            "(70, 5, 9, 'KWX0485', '79SdT22Z9xRG21444')\n",
            "(71, 2, 3, 'HQA2073', '2A237YSkseguA5053')\n",
            "(72, 2, 3, 'JTS1091', '39pAd244M6PDL5762')\n",
            "(73, 4, 8, 'MTX2843', '88nb78BEHAP0m4439')\n",
            "(74, 2, 4, 'NET8035', '5A80Pw7W4pZ0s0329')\n",
            "(75, 6, 12, 'LUO4029', '60ZPvD1x6Sm083124')\n",
            "(76, 3, 6, 'NEU9368', '3mm0FFA6AWAA96693')\n",
            "(77, 4, 8, 'HUW6322', '1g740Mc2k5NJA9141')\n",
            "(78, 4, 7, 'IGQ5318', '4RuMA3pS0AZA00734')\n",
            "(79, 7, 13, 'DED9833', '2t7T56LA1WzAh0513')\n",
            "(80, 6, 12, 'KGY1622', '7GA7KhLA6tAV41222')\n",
            "(81, 4, 7, 'NER4295', '64rf9jNglnR0X5975')\n",
            "(82, 6, 11, 'MOH3690', '3z52xWnAlAwgF0071')\n",
            "(83, 1, 1, 'MWD1438', '4MwE0JA16yWHU2426')\n",
            "(84, 1, 1, 'IUL2595', '1AAA6h868J4rt4552')\n",
            "(85, 6, 11, 'JMO3107', '30Rs82C0w95hA2793')\n",
            "(86, 2, 3, 'MRN4931', '6fsW5AfTYhN1e1156')\n",
            "(87, 2, 4, 'KUF6650', '7tWfV0Jf8l8lV7658')\n",
            "(88, 4, 7, 'NFB0645', '844pzGhWswE531808')\n",
            "(89, 6, 11, 'EDD4638', '3NfS62e74ABgX4117')\n",
            "(90, 1, 2, 'JUU9948', '46UXeexR88Gc73250')\n",
            "(91, 4, 7, 'KGZ8150', '5AM5JzG4ELD044377')\n",
            "(92, 7, 13, 'JDQ7187', '63N3A7vuktnVA9889')\n",
            "(93, 5, 9, 'HUZ1951', '4saPES4AH6XAB7754')\n",
            "(94, 5, 10, 'KIL1883', '3asNA161vALPW8883')\n",
            "(95, 1, 1, 'KUF6204', '18gsY5M7s7KAJ8690')\n",
            "(96, 5, 10, 'MQO6102', '7LAcyhA9119bN4491')\n",
            "(97, 1, 1, 'KJT1928', '8uERn4tNT33EA7461')\n",
            "(98, 3, 5, 'HYU4936', '1DdM0R31zZ26v9198')\n",
            "(99, 3, 5, 'NET6904', '48x4bM13w31H97223')\n",
            "(100, 6, 12, 'HVA7271', '5ep8k45w14AA97649')\n"
          ]
        }
      ]
    },
    {
      "cell_type": "markdown",
      "source": [
        "### *2.5 - INSERINDO RESERVAS*"
      ],
      "metadata": {
        "id": "aTd24DyWwP7_"
      }
    },
    {
      "cell_type": "code",
      "source": [
        "# Data\n",
        "# Gerando números aleatórios no ano de 2022\n",
        "min_ano=2022\n",
        "max_ano=2022\n",
        "\n",
        "inicio = datetime(min_ano, 1, 1, 00, 00, 00)\n",
        "anos = max_ano - min_ano+1\n",
        "fim = inicio + timedelta(days=90 * anos)\n",
        "\n",
        "# Lendo lista de id_clientes de um bloco de notas\n",
        "lista_cliente = open(\"/content/id_cliente.txt\")\n",
        "id_cliente = lista_cliente.readlines()\n",
        "id_cliente = [line.rstrip() for line in id_cliente]\n",
        "\n",
        "# Lendo lista de id_veiculos de um bloco de notas\n",
        "lista_veiculo = open(\"/content/id_veiculo.txt\")\n",
        "id_veiculo = lista_veiculo.readlines()\n",
        "id_veiculo = [line.rstrip() for line in id_veiculo]\n",
        "\n",
        "\n",
        "i=0\n",
        "while i != 100:\n",
        "\n",
        "  # Data aleatória\n",
        "  data_devolucao = inicio + (fim - inicio) * random.random()\n",
        "  data_retirada = inicio + (fim - inicio) * random.random()\n",
        "  data_prevista_devolucao = inicio + (fim - inicio) * random.random()\n",
        "  # Criei a variável data_soma somente para não variar mais de 10 dias a data de devolução da data prevista de devolução, o que poderia parecer irreal caso ocorresse\n",
        "  data_soma = data_devolucao - data_prevista_devolucao\n",
        "\n",
        "  # Convertendo timedelta para int utilizando numpy para poder fazer operações\n",
        "  x = np.timedelta64(data_soma,'ns')\n",
        "  dias = x.astype('timedelta64[D]')\n",
        "  dias / np.timedelta64(1,'D')    \n",
        "\n",
        "  if data_devolucao > data_retirada < data_prevista_devolucao and dias <10:\n",
        "    id_v1 = random.choice(id_veiculo)\n",
        "    id_veiculo.remove(id_v1)\n",
        "\n",
        "    id_cc1 = random.choice(id_cliente)\n",
        "    id_cliente.remove(id_cc1)\n",
        "\n",
        "    i= i+1\n",
        "  #Inserir informação na tabela reserva\n",
        "    cur.execute(f' INSERT INTO reserva VALUES ({i},{id_cc1},{id_v1}, \"{data_retirada}\", \"{data_prevista_devolucao}\",  \"{data_devolucao}\")')"
      ],
      "metadata": {
        "id": "ZUWvGTxn6KOC"
      },
      "execution_count": 15,
      "outputs": []
    },
    {
      "cell_type": "code",
      "source": [
        "# Query de consulta para verificar se as informações foram inseridas corretamente na tabela Reserva\n",
        "con = cur.execute (' SELECT * FROM reserva').fetchall()\n",
        "\n",
        "#Loop\n",
        "for Linha in con:\n",
        "  print (Linha)"
      ],
      "metadata": {
        "colab": {
          "base_uri": "https://localhost:8080/"
        },
        "id": "bpoIysUl9Vmg",
        "outputId": "fa11baff-fb35-42a6-8eb2-28afde705d43"
      },
      "execution_count": 16,
      "outputs": [
        {
          "output_type": "stream",
          "name": "stdout",
          "text": [
            "(1, 30, 25, '2022-01-18 13:50:45.781652', '2022-01-27 11:33:56.291564', '2022-01-20 21:12:01.454874')\n",
            "(2, 42, 31, '2022-02-26 04:45:09.014937', '2022-03-12 17:20:57.469562', '2022-03-09 13:39:50.216724')\n",
            "(3, 95, 99, '2022-01-07 14:42:11.987444', '2022-03-18 03:34:41.572323', '2022-03-23 01:35:59.825691')\n",
            "(4, 52, 75, '2022-01-06 10:18:32.388511', '2022-03-22 15:27:40.207584', '2022-03-14 12:51:30.254975')\n",
            "(5, 6, 98, '2022-01-09 03:07:04.567824', '2022-03-12 06:34:13.659905', '2022-01-11 06:24:20.783640')\n",
            "(6, 3, 95, '2022-01-14 04:10:22.330480', '2022-02-27 09:03:23.240049', '2022-02-05 18:45:43.591474')\n",
            "(7, 34, 41, '2022-02-02 04:58:33.687905', '2022-03-17 04:34:00.147406', '2022-02-27 06:05:36.130466')\n",
            "(8, 21, 17, '2022-01-06 02:37:39.516032', '2022-03-26 13:45:32.995007', '2022-03-05 08:29:22.810431')\n",
            "(9, 78, 10, '2022-02-08 06:48:16.798466', '2022-03-03 19:55:48.524637', '2022-02-13 08:54:19.779080')\n",
            "(10, 48, 39, '2022-02-07 05:54:42.964500', '2022-03-22 00:29:26.439161', '2022-03-16 08:17:47.002740')\n",
            "(11, 53, 82, '2022-02-08 17:31:22.274906', '2022-02-23 02:44:41.347299', '2022-02-23 14:32:59.608139')\n",
            "(12, 67, 18, '2022-01-23 06:48:01.006355', '2022-03-23 01:31:35.926998', '2022-03-06 12:09:13.532953')\n",
            "(13, 58, 32, '2022-01-07 12:42:21.328644', '2022-03-06 10:38:27.413441', '2022-02-03 17:19:59.923045')\n",
            "(14, 49, 66, '2022-01-13 21:26:23.725826', '2022-02-16 03:05:44.683132', '2022-01-24 21:37:33.635482')\n",
            "(15, 55, 7, '2022-01-30 12:35:40.324812', '2022-02-22 01:28:19.925410', '2022-02-17 21:12:05.705408')\n",
            "(16, 14, 87, '2022-01-10 14:45:08.186986', '2022-02-14 14:29:09.488263', '2022-01-27 04:57:36.087615')\n",
            "(17, 66, 97, '2022-03-01 23:24:32.675513', '2022-03-10 13:45:55.886895', '2022-03-10 08:51:41.443652')\n",
            "(18, 97, 72, '2022-03-01 23:23:23.311980', '2022-03-14 07:02:33.181264', '2022-03-18 09:48:16.293215')\n",
            "(19, 100, 96, '2022-02-05 20:48:22.561101', '2022-03-04 21:59:39.070335', '2022-02-25 09:30:50.837626')\n",
            "(20, 74, 78, '2022-01-04 02:32:37.144622', '2022-03-23 04:23:02.810227', '2022-03-24 13:54:45.540019')\n",
            "(21, 63, 4, '2022-01-05 11:59:23.476265', '2022-02-21 09:57:14.621021', '2022-01-06 16:11:28.693925')\n",
            "(22, 77, 42, '2022-01-07 13:45:06.149289', '2022-02-22 05:17:52.255633', '2022-02-23 02:18:14.487226')\n",
            "(23, 88, 76, '2022-01-01 15:15:29.177431', '2022-03-28 23:33:34.388199', '2022-01-06 20:54:09.231324')\n",
            "(24, 9, 2, '2022-01-05 23:40:35.819795', '2022-02-20 10:14:33.705758', '2022-02-09 05:53:55.143217')\n",
            "(25, 65, 22, '2022-01-20 14:13:14.035205', '2022-02-12 00:07:13.379004', '2022-02-10 04:53:28.786049')\n",
            "(26, 35, 45, '2022-02-27 10:33:24.860352', '2022-03-20 01:26:30.400594', '2022-03-08 16:43:41.805540')\n",
            "(27, 32, 56, '2022-01-27 05:24:58.462976', '2022-03-16 13:22:25.919002', '2022-02-05 10:37:42.748390')\n",
            "(28, 4, 86, '2022-01-03 17:29:36.713243', '2022-03-21 01:35:22.178055', '2022-01-24 21:29:03.510891')\n",
            "(29, 64, 26, '2022-02-17 04:13:37.403109', '2022-03-09 15:23:59.590321', '2022-03-08 00:50:14.781002')\n",
            "(30, 68, 100, '2022-01-12 09:53:44.444223', '2022-03-24 15:34:45.169015', '2022-02-18 02:39:39.135029')\n",
            "(31, 69, 36, '2022-01-12 02:34:58.834576', '2022-03-07 05:53:24.284519', '2022-01-27 07:59:19.405490')\n",
            "(32, 86, 57, '2022-01-20 23:27:05.007580', '2022-03-13 11:28:29.840220', '2022-02-14 15:57:36.868991')\n",
            "(33, 70, 29, '2022-01-31 02:13:35.628275', '2022-03-18 06:44:28.502243', '2022-02-25 04:25:02.317923')\n",
            "(34, 8, 6, '2022-02-24 09:21:41.656232', '2022-03-30 14:51:28.997605', '2022-03-18 02:20:17.753915')\n",
            "(35, 1, 24, '2022-01-31 23:15:47.968265', '2022-02-07 05:02:02.294858', '2022-02-12 13:10:30.768386')\n",
            "(36, 62, 47, '2022-01-10 02:09:48.568457', '2022-02-10 06:28:43.814304', '2022-02-05 10:22:24.416520')\n",
            "(37, 10, 15, '2022-02-11 03:32:31.275733', '2022-03-19 21:29:03.022195', '2022-03-03 17:31:59.794749')\n",
            "(38, 80, 85, '2022-01-23 10:27:04.448763', '2022-03-16 01:59:51.686878', '2022-02-14 23:35:34.412119')\n",
            "(39, 60, 35, '2022-01-19 19:48:33.079934', '2022-03-23 18:32:54.320050', '2022-03-17 17:17:22.684314')\n",
            "(40, 12, 84, '2022-02-20 15:39:50.226408', '2022-03-20 19:56:23.095267', '2022-02-21 04:07:52.017230')\n",
            "(41, 54, 33, '2022-01-02 20:59:14.034892', '2022-01-05 20:57:22.234665', '2022-01-09 04:59:41.402093')\n",
            "(42, 33, 52, '2022-02-18 19:02:39.293850', '2022-03-16 08:58:07.805955', '2022-03-21 13:12:46.512873')\n",
            "(43, 87, 38, '2022-01-16 03:57:04.338028', '2022-02-28 22:32:05.238938', '2022-02-20 04:05:46.784584')\n",
            "(44, 5, 9, '2022-01-09 05:05:36.030350', '2022-02-15 16:42:29.476747', '2022-02-14 15:13:58.170106')\n",
            "(45, 41, 60, '2022-01-17 10:42:17.808823', '2022-03-24 02:34:16.184925', '2022-01-29 09:28:51.113840')\n",
            "(46, 84, 14, '2022-01-11 14:02:15.501979', '2022-02-14 15:52:05.311393', '2022-02-16 03:23:54.254122')\n",
            "(47, 71, 5, '2022-01-16 05:31:12.266073', '2022-03-14 04:12:31.197407', '2022-02-22 13:17:42.359564')\n",
            "(48, 99, 54, '2022-01-28 07:33:40.623339', '2022-02-25 12:17:13.012152', '2022-02-05 22:12:28.353869')\n",
            "(49, 94, 49, '2022-01-01 16:13:13.766928', '2022-03-28 23:59:13.730067', '2022-01-17 03:08:57.508358')\n",
            "(50, 20, 83, '2022-01-24 05:03:04.388106', '2022-03-09 06:42:37.478237', '2022-03-02 00:14:00.711407')\n",
            "(51, 98, 74, '2022-03-07 05:03:32.236100', '2022-03-17 17:12:45.183743', '2022-03-24 10:23:19.718545')\n",
            "(52, 76, 79, '2022-01-22 18:31:23.241967', '2022-03-06 09:54:01.960854', '2022-03-01 07:54:12.628082')\n",
            "(53, 28, 55, '2022-01-13 20:13:43.031065', '2022-03-25 12:49:43.365648', '2022-03-25 00:40:12.953838')\n",
            "(54, 90, 11, '2022-01-22 12:16:06.112610', '2022-02-11 06:42:23.675645', '2022-02-17 07:24:19.614765')\n",
            "(55, 13, 43, '2022-01-02 00:56:28.828280', '2022-03-18 22:50:32.688690', '2022-01-31 10:40:33.992714')\n",
            "(56, 38, 80, '2022-01-09 23:06:03.984844', '2022-02-21 11:09:23.134429', '2022-02-28 08:14:42.286228')\n",
            "(57, 19, 61, '2022-02-17 03:03:34.012381', '2022-03-03 03:58:18.967187', '2022-02-20 07:11:17.818806')\n",
            "(58, 93, 30, '2022-02-14 14:18:09.863840', '2022-03-26 22:46:42.576460', '2022-02-26 10:34:13.826315')\n",
            "(59, 59, 67, '2022-02-13 08:40:06.097503', '2022-02-25 12:08:40.581663', '2022-03-06 09:52:40.549380')\n",
            "(60, 16, 1, '2022-01-01 08:23:49.520916', '2022-03-26 11:37:17.090091', '2022-01-20 00:41:48.770878')\n",
            "(61, 57, 21, '2022-01-11 23:44:42.249272', '2022-03-19 05:52:03.639334', '2022-03-08 10:00:31.723949')\n",
            "(62, 91, 77, '2022-01-24 22:25:24.852989', '2022-03-30 09:31:01.852797', '2022-02-09 12:39:47.404211')\n",
            "(63, 89, 19, '2022-02-04 11:18:59.063706', '2022-02-09 14:30:51.460468', '2022-02-10 19:19:30.445102')\n",
            "(64, 24, 69, '2022-01-25 18:14:16.681323', '2022-03-21 07:08:21.625625', '2022-03-17 00:14:36.382915')\n",
            "(65, 39, 89, '2022-01-28 03:53:35.347503', '2022-03-06 22:14:47.568393', '2022-03-07 08:16:59.809198')\n",
            "(66, 83, 27, '2022-02-17 15:01:35.174458', '2022-03-24 01:36:27.324464', '2022-03-03 06:24:12.615892')\n",
            "(67, 36, 58, '2022-02-18 19:56:02.025347', '2022-03-16 08:55:23.828846', '2022-03-21 06:30:17.218275')\n",
            "(68, 81, 53, '2022-03-05 05:09:52.759214', '2022-03-22 17:46:50.343028', '2022-03-12 14:00:00.449790')\n",
            "(69, 45, 37, '2022-01-28 10:11:28.477285', '2022-03-17 00:25:47.659531', '2022-02-21 15:20:56.222999')\n",
            "(70, 37, 59, '2022-01-04 04:41:16.174097', '2022-01-11 11:44:30.235029', '2022-01-06 01:38:52.996790')\n",
            "(71, 96, 65, '2022-01-25 04:13:17.031397', '2022-03-03 22:43:08.429666', '2022-02-21 01:39:55.155626')\n",
            "(72, 43, 8, '2022-03-01 20:19:46.098995', '2022-03-13 22:08:17.967117', '2022-03-18 13:24:08.732352')\n",
            "(73, 46, 46, '2022-01-18 15:57:14.788281', '2022-03-10 18:14:51.569028', '2022-02-13 14:36:28.169073')\n",
            "(74, 15, 68, '2022-01-19 02:18:06.240206', '2022-01-21 05:37:07.900464', '2022-01-29 21:37:21.579281')\n",
            "(75, 18, 92, '2022-01-11 06:35:10.745546', '2022-02-21 09:33:06.518885', '2022-02-12 11:45:45.779376')\n",
            "(76, 75, 81, '2022-01-11 15:06:22.162855', '2022-02-18 23:05:04.281294', '2022-01-12 08:02:19.528411')\n",
            "(77, 79, 93, '2022-01-05 03:39:49.605563', '2022-01-27 07:02:10.974331', '2022-01-15 13:30:49.181531')\n",
            "(78, 7, 44, '2022-01-17 14:28:15.440693', '2022-02-28 09:12:22.792589', '2022-03-03 07:40:10.998088')\n",
            "(79, 56, 34, '2022-03-18 04:56:14.578253', '2022-03-24 07:49:42.565076', '2022-03-25 11:55:49.817235')\n",
            "(80, 82, 63, '2022-01-25 02:07:18.745090', '2022-02-28 08:07:25.997632', '2022-03-04 09:12:13.733992')\n",
            "(81, 2, 73, '2022-02-09 09:14:50.762757', '2022-03-02 15:33:16.027744', '2022-03-09 21:41:45.206862')\n",
            "(82, 61, 71, '2022-02-03 03:08:35.141471', '2022-03-05 06:15:34.027065', '2022-03-13 19:41:17.197437')\n",
            "(83, 40, 48, '2022-01-05 16:43:50.208115', '2022-03-09 01:06:52.456068', '2022-02-18 08:46:19.982530')\n",
            "(84, 44, 13, '2022-01-30 12:13:39.921621', '2022-02-20 08:51:41.044619', '2022-02-21 01:25:05.033869')\n",
            "(85, 50, 62, '2022-02-12 19:41:30.586276', '2022-03-01 14:07:22.980941', '2022-02-22 17:09:58.187482')\n",
            "(86, 47, 70, '2022-02-04 06:59:37.558016', '2022-02-24 23:51:57.486053', '2022-02-20 10:03:53.282254')\n",
            "(87, 17, 88, '2022-01-31 07:44:14.161709', '2022-02-12 04:38:42.263224', '2022-02-02 11:37:46.428976')\n",
            "(88, 27, 40, '2022-02-04 17:54:17.025102', '2022-02-09 14:47:22.173081', '2022-02-05 09:14:03.608209')\n",
            "(89, 25, 28, '2022-01-17 03:27:09.068586', '2022-03-14 22:16:43.259368', '2022-03-03 10:22:03.373342')\n",
            "(90, 23, 20, '2022-01-25 02:25:44.201126', '2022-02-18 10:51:00.516742', '2022-02-21 20:15:42.529517')\n",
            "(91, 73, 91, '2022-01-06 23:02:17.434430', '2022-03-13 19:29:54.645277', '2022-03-06 04:40:35.448105')\n",
            "(92, 72, 90, '2022-03-19 02:00:56.739399', '2022-03-22 21:59:15.737111', '2022-03-22 12:03:21.248829')\n",
            "(93, 85, 23, '2022-01-18 19:51:35.162626', '2022-03-22 23:49:37.016151', '2022-02-07 11:10:07.018819')\n",
            "(94, 29, 64, '2022-01-02 02:37:18.397256', '2022-03-12 17:39:26.201762', '2022-02-03 10:26:15.127112')\n",
            "(95, 22, 51, '2022-01-24 08:10:17.610620', '2022-02-21 23:53:22.032821', '2022-01-24 12:31:43.454499')\n",
            "(96, 31, 16, '2022-02-15 23:19:38.340971', '2022-03-07 23:13:21.833134', '2022-02-25 14:24:59.521635')\n",
            "(97, 51, 3, '2022-01-11 04:08:00.204412', '2022-03-18 09:45:55.187499', '2022-02-12 17:31:10.943010')\n",
            "(98, 26, 50, '2022-01-10 11:58:00.103810', '2022-03-26 19:58:19.721484', '2022-01-28 12:57:29.209443')\n",
            "(99, 11, 12, '2022-01-12 07:34:57.169199', '2022-02-09 15:27:23.512473', '2022-01-20 17:26:08.019058')\n",
            "(100, 92, 94, '2022-02-25 15:36:12.922302', '2022-03-20 01:34:26.767579', '2022-03-23 10:16:32.236851')\n"
          ]
        }
      ]
    },
    {
      "cell_type": "markdown",
      "source": [
        "# **3 - FAZENDO CONSULTAS**"
      ],
      "metadata": {
        "id": "6zLrTk2CUtih"
      }
    },
    {
      "cell_type": "markdown",
      "source": [
        "### *3.1 - CONSULTA 1*"
      ],
      "metadata": {
        "id": "OtnoR24oU1mi"
      }
    },
    {
      "cell_type": "code",
      "source": [
        "#3.1 Consultar o nome do cliente, numero da placa, nome do fabricante e nome do modelo dos carros alugados pelos clientes\n",
        "\n",
        "con = cur.execute (\n",
        "'''\n",
        "select cliente.nome, veiculo.numero_placa, fabricante.nome_fabricante, modelo.nome_modelo from cliente\n",
        "inner join reserva on reserva.id_cliente = cliente.id_cliente\n",
        "inner join veiculo on veiculo.id_veiculo = reserva.id_veiculo\n",
        "inner join modelo on modelo.id_modelo = veiculo.id_modelo\n",
        "inner join fabricante on fabricante.id_fabricante = modelo.id_fabricante\n",
        "order by cliente.id_cliente\n",
        "limit 10;\n",
        "'''\n",
        ").fetchall()\n",
        "\n",
        "#Loop\n",
        "for Linha in con:\n",
        "  print (Linha)"
      ],
      "metadata": {
        "colab": {
          "base_uri": "https://localhost:8080/"
        },
        "id": "HLGoUeZsUxQx",
        "outputId": "ef3dc812-e835-48ec-cbfa-a5d5cc8771ea"
      },
      "execution_count": 31,
      "outputs": [
        {
          "output_type": "stream",
          "name": "stdout",
          "text": [
            "('Enzo Gabriel da Rocha', 'LWD5249', 'FORD', 'BRONCO SPORT')\n",
            "('Luiz Henrique Rodrigues', 'MTX2843', 'FORD', 'TERRITORY')\n",
            "('Vitor Vieira', 'KUF6204', 'FIAT', 'PULSE')\n",
            "('Luiz Otávio Oliveira', 'MRN4931', 'CHEVROLET', 'ONIX')\n",
            "('Ana Sophia da Cruz', 'MJB5406', 'FORD', 'TERRITORY')\n",
            "('Esther Fogaça', 'HYU4936', 'VOLKSWAGEN', 'POLO')\n",
            "('Bernardo Ramos', 'IDW7122', 'JEEP', 'WRANGLER')\n",
            "('Maria Clara Freitas', 'NAS6300', 'CHEVROLET', 'ONIX')\n",
            "('Nicolas da Costa', 'MUF4031', 'FIAT', 'PULSE')\n",
            "('Laís Gonçalves', 'JME0628', 'FORD', 'BRONCO SPORT')\n"
          ]
        }
      ]
    },
    {
      "cell_type": "markdown",
      "source": [
        "## *3.2 - CONSULTA 2*"
      ],
      "metadata": {
        "id": "I3WjR8ksY24I"
      }
    },
    {
      "cell_type": "code",
      "source": [
        "#3.2 Consultar a quantidade reservada de cada modelo e fabricante de carro\n",
        "\n",
        "con = cur.execute (\n",
        "''' \n",
        "select  fabricante.nome_fabricante, modelo.nome_modelo, count(*) as quantidade_modelo_alugado from cliente\n",
        "inner join reserva on reserva.id_cliente = cliente.id_cliente\n",
        "inner join veiculo on veiculo.id_veiculo = reserva.id_veiculo\n",
        "inner join modelo on modelo.id_modelo = veiculo.id_modelo\n",
        "inner join fabricante on fabricante.id_fabricante = modelo.id_fabricante\n",
        "group by modelo.nome_modelo\n",
        "order by quantidade_modelo_alugado desc;\n",
        "'''\n",
        ").fetchall()\n",
        "\n",
        "#Loop\n",
        "for Linha in con:\n",
        "  print (Linha)"
      ],
      "metadata": {
        "colab": {
          "base_uri": "https://localhost:8080/"
        },
        "id": "lv6GyWbIY4gQ",
        "outputId": "044d5644-0fdc-4d6a-9472-b97fb4ae7d03"
      },
      "execution_count": 32,
      "outputs": [
        {
          "output_type": "stream",
          "name": "stdout",
          "text": [
            "('CHEVROLET', 'ONIX', 12)\n",
            "('FORD', 'BRONCO SPORT', 10)\n",
            "('VOLKSWAGEN', 'POLO', 9)\n",
            "('FIAT', 'ARGO', 8)\n",
            "('FIAT', 'PULSE', 8)\n",
            "('CHEVROLET', 'CRUZE', 7)\n",
            "('MERCEDES', 'GLA SUV', 7)\n",
            "('JEEP', 'WRANGLER', 7)\n",
            "('MERCEDES', 'GLB SUV', 6)\n",
            "('FORD', 'TERRITORY', 6)\n",
            "('AUDI', 'A4', 5)\n",
            "('VOLKSWAGEN', 'JETTA', 5)\n",
            "('AUDI', 'Q5', 5)\n",
            "('JEEP', 'RENEGADE', 5)\n"
          ]
        }
      ]
    },
    {
      "cell_type": "markdown",
      "source": [
        "## *3.3 - CONSULTA 3*"
      ],
      "metadata": {
        "id": "sq05FJTFtojs"
      }
    },
    {
      "cell_type": "code",
      "source": [
        "#3.3 Consultar quais fabricantes de carro foram mais reservados\n",
        "\n",
        "con = cur.execute (\n",
        "''' \n",
        "select  fabricante.nome_fabricante, count(*) as quantidade_fabricante_alugado from cliente\n",
        "inner join reserva on reserva.id_cliente = cliente.id_cliente\n",
        "inner join veiculo on veiculo.id_veiculo = reserva.id_veiculo\n",
        "inner join modelo on modelo.id_modelo = veiculo.id_modelo\n",
        "inner join fabricante on fabricante.id_fabricante = modelo.id_fabricante\n",
        "group by fabricante.nome_fabricante\n",
        "order by quantidade_fabricante_alugado desc;\n",
        "'''\n",
        ").fetchall()\n",
        "\n",
        "#Loop\n",
        "for Linha in con:\n",
        "  print (Linha)"
      ],
      "metadata": {
        "colab": {
          "base_uri": "https://localhost:8080/"
        },
        "id": "_fK0RlE7tsHL",
        "outputId": "b426745b-acb5-4e89-fe5b-af4698dd24bd"
      },
      "execution_count": 19,
      "outputs": [
        {
          "output_type": "stream",
          "name": "stdout",
          "text": [
            "('CHEVROLET', 19)\n",
            "('FIAT', 16)\n",
            "('FORD', 16)\n",
            "('VOLKSWAGEN', 14)\n",
            "('MERCEDES', 13)\n",
            "('JEEP', 12)\n",
            "('AUDI', 10)\n"
          ]
        }
      ]
    },
    {
      "cell_type": "markdown",
      "source": [
        "## *3.4 - CONSULTA 4*"
      ],
      "metadata": {
        "id": "cHXuYlwgbGpR"
      }
    },
    {
      "cell_type": "code",
      "source": [
        "#3.4 Consultar quantos e quais veículos foram devolvidos antes da data_prevista de devolucao\n",
        "\n",
        "con = cur.execute (\n",
        "''' \n",
        "select  fabricante.nome_fabricante, modelo.nome_modelo, count(*) as quantidade_modelo_alugado from reserva\n",
        "inner join veiculo on veiculo.id_veiculo = reserva.id_veiculo\n",
        "inner join modelo on modelo.id_modelo = veiculo.id_modelo\n",
        "inner join fabricante on fabricante.id_fabricante = modelo.id_fabricante\n",
        "where data_devolucao < data_prev_devolucao\n",
        "group by modelo.nome_modelo\n",
        "order by quantidade_modelo_alugado desc;\n",
        "'''\n",
        ").fetchall()\n",
        "\n",
        "#Loop\n",
        "for Linha in con:\n",
        "  print (Linha)"
      ],
      "metadata": {
        "colab": {
          "base_uri": "https://localhost:8080/"
        },
        "id": "cKfD21iIbHGn",
        "outputId": "1555860b-fcdd-43e2-a352-91391761e323"
      },
      "execution_count": 33,
      "outputs": [
        {
          "output_type": "stream",
          "name": "stdout",
          "text": [
            "('CHEVROLET', 'ONIX', 8)\n",
            "('FIAT', 'PULSE', 8)\n",
            "('FIAT', 'ARGO', 7)\n",
            "('FORD', 'BRONCO SPORT', 7)\n",
            "('VOLKSWAGEN', 'POLO', 6)\n",
            "('JEEP', 'WRANGLER', 6)\n",
            "('CHEVROLET', 'CRUZE', 5)\n",
            "('VOLKSWAGEN', 'JETTA', 5)\n",
            "('MERCEDES', 'GLB SUV', 4)\n",
            "('AUDI', 'Q5', 4)\n",
            "('JEEP', 'RENEGADE', 4)\n",
            "('FORD', 'TERRITORY', 4)\n",
            "('AUDI', 'A4', 3)\n",
            "('MERCEDES', 'GLA SUV', 3)\n"
          ]
        }
      ]
    },
    {
      "cell_type": "markdown",
      "source": [
        "## *3.5 - CONSULTA 5*"
      ],
      "metadata": {
        "id": "sHYp57slzJZr"
      }
    },
    {
      "cell_type": "code",
      "source": [
        "# 3.5 Qual fabricante e modelo dos carros dos clientes que devolveram com a data prevista de devolução atrasada\n",
        "\n",
        "con = cur.execute (\n",
        "''' \n",
        "select cliente.nome, fabricante.nome_fabricante, modelo.nome_modelo, reserva.data_prev_devolucao, data_devolucao from cliente\n",
        "inner join reserva on reserva.id_cliente = cliente.id_cliente\n",
        "inner join veiculo on veiculo.id_veiculo = reserva.id_veiculo\n",
        "inner join modelo on modelo.id_modelo = veiculo.id_modelo\n",
        "inner join fabricante on fabricante.id_fabricante = modelo.id_fabricante\n",
        "where data_devolucao > data_prev_devolucao;\n",
        "'''\n",
        ").fetchall()\n",
        "\n",
        "#Loop\n",
        "for Linha in con:\n",
        "  print (Linha)"
      ],
      "metadata": {
        "colab": {
          "base_uri": "https://localhost:8080/"
        },
        "id": "sUADgiKdzLdC",
        "outputId": "68d4b214-b257-4a1a-b903-687d67e9287c"
      },
      "execution_count": 21,
      "outputs": [
        {
          "output_type": "stream",
          "name": "stdout",
          "text": [
            "('Beatriz Costa', 'FIAT', 'ARGO', '2022-03-24 07:49:42.565076', '2022-03-25 11:55:49.817235')\n",
            "('Eduardo da Cunha', 'CHEVROLET', 'ONIX', '2022-02-09 14:30:51.460468', '2022-02-10 19:19:30.445102')\n",
            "('Kaique Freitas', 'CHEVROLET', 'ONIX', '2022-03-16 08:55:23.828846', '2022-03-21 06:30:17.218275')\n",
            "('Ana Sophia Cavalcanti', 'CHEVROLET', 'ONIX', '2022-03-05 06:15:34.027065', '2022-03-13 19:41:17.197437')\n",
            "('Luiz Henrique Ribeiro', 'CHEVROLET', 'ONIX', '2022-03-14 07:02:33.181264', '2022-03-18 09:48:16.293215')\n",
            "('Enzo Gabriel da Cunha', 'CHEVROLET', 'CRUZE', '2022-01-05 20:57:22.234665', '2022-01-09 04:59:41.402093')\n",
            "('Davi Lima', 'CHEVROLET', 'CRUZE', '2022-03-17 17:12:45.183743', '2022-03-24 10:23:19.718545')\n",
            "('Lorenzo Carvalho', 'VOLKSWAGEN', 'POLO', '2022-03-13 22:08:17.967117', '2022-03-18 13:24:08.732352')\n",
            "('Matheus Duarte', 'VOLKSWAGEN', 'POLO', '2022-02-25 12:08:40.581663', '2022-03-06 09:52:40.549380')\n",
            "('Lucas Gabriel Cardoso', 'VOLKSWAGEN', 'POLO', '2022-03-18 03:34:41.572323', '2022-03-23 01:35:59.825691')\n",
            "('Renan da Rosa', 'FORD', 'BRONCO SPORT', '2022-02-11 06:42:23.675645', '2022-02-17 07:24:19.614765')\n",
            "('Enzo Gabriel da Rocha', 'FORD', 'BRONCO SPORT', '2022-02-07 05:02:02.294858', '2022-02-12 13:10:30.768386')\n",
            "('Diogo Lima', 'FORD', 'BRONCO SPORT', '2022-03-23 04:23:02.810227', '2022-03-24 13:54:45.540019')\n",
            "('Gabriela Costela', 'FORD', 'TERRITORY', '2022-03-16 08:58:07.805955', '2022-03-21 13:12:46.512873')\n",
            "('Luiz Henrique Rodrigues', 'FORD', 'TERRITORY', '2022-03-02 15:33:16.027744', '2022-03-09 21:41:45.206862')\n",
            "('Leonardo Santos', 'AUDI', 'A4', '2022-02-14 15:52:05.311393', '2022-02-16 03:23:54.254122')\n",
            "('Luiza Moura', 'AUDI', 'A4', '2022-02-22 05:17:52.255633', '2022-02-23 02:18:14.487226')\n",
            "('Ryan Rodrigues', 'AUDI', 'Q5', '2022-03-20 01:34:26.767579', '2022-03-23 10:16:32.236851')\n",
            "('Eloah Lopes', 'MERCEDES', 'GLB SUV', '2022-02-23 02:44:41.347299', '2022-02-23 14:32:59.608139')\n",
            "('Sophia Fogaça', 'MERCEDES', 'GLB SUV', '2022-03-06 22:14:47.568393', '2022-03-07 08:16:59.809198')\n",
            "('Raquel Nascimento', 'MERCEDES', 'GLA SUV', '2022-02-20 08:51:41.044619', '2022-02-21 01:25:05.033869')\n",
            "('Kamilly Aragão', 'MERCEDES', 'GLA SUV', '2022-02-18 10:51:00.516742', '2022-02-21 20:15:42.529517')\n",
            "('Melissa Rezende', 'MERCEDES', 'GLA SUV', '2022-01-21 05:37:07.900464', '2022-01-29 21:37:21.579281')\n",
            "('Alexia Campos', 'MERCEDES', 'GLA SUV', '2022-02-21 11:09:23.134429', '2022-02-28 08:14:42.286228')\n",
            "('Bernardo Ramos', 'JEEP', 'WRANGLER', '2022-02-28 09:12:22.792589', '2022-03-03 07:40:10.998088')\n",
            "('Yuri da Cruz', 'JEEP', 'RENEGADE', '2022-02-28 08:07:25.997632', '2022-03-04 09:12:13.733992')\n"
          ]
        }
      ]
    },
    {
      "cell_type": "markdown",
      "source": [
        "## *3.6 - CONSULTA 6*"
      ],
      "metadata": {
        "id": "BVOmEtdmuoXq"
      }
    },
    {
      "cell_type": "code",
      "source": [
        "#3.6 Saber o nome do cliente, idade, numero da placa, nome fabricante e nome modelo dos carros alugados pelos clientes\n",
        "\n",
        "from datetime import date\n",
        "data_atual = date.today()\n",
        "con = cur.execute (\n",
        "f'''\n",
        "select cliente.nome, ((JULIANDAY(\"{data_atual}\")- JULIANDAY(cliente.nascimento))/365) as idade, \n",
        "fabricante.nome_fabricante, modelo.nome_modelo from cliente\n",
        "inner join reserva on reserva.id_cliente = cliente.id_cliente\n",
        "inner join veiculo on veiculo.id_veiculo = reserva.id_veiculo\n",
        "inner join modelo on modelo.id_modelo = veiculo.id_modelo\n",
        "inner join fabricante on fabricante.id_fabricante = modelo.id_fabricante\n",
        "order by idade desc;\n",
        "'''\n",
        ").fetchall()\n",
        "\n",
        "#Loop\n",
        "for Linha in con:\n",
        "  print (Linha)"
      ],
      "metadata": {
        "colab": {
          "base_uri": "https://localhost:8080/"
        },
        "id": "ZQhC0QhBurlD",
        "outputId": "283c3dfe-0728-4ebd-b8a1-199c579a8f68"
      },
      "execution_count": 22,
      "outputs": [
        {
          "output_type": "stream",
          "name": "stdout",
          "text": [
            "('Giovanna Rodrigues', 70.4003007410898, 'FIAT', 'PULSE')\n",
            "('Lívia Gonçalves', 69.83458061574078, 'AUDI', 'A4')\n",
            "('Luiz Otávio Oliveira', 68.51726860886006, 'CHEVROLET', 'ONIX')\n",
            "('Leonardo da Paz', 67.30670144266819, 'FORD', 'BRONCO SPORT')\n",
            "('Felipe Dias', 67.0714588240427, 'CHEVROLET', 'CRUZE')\n",
            "('Alexia Campos', 66.99570384766677, 'MERCEDES', 'GLA SUV')\n",
            "('Diego Rodrigues', 66.82888180466803, 'CHEVROLET', 'ONIX')\n",
            "('Gabriela Costela', 66.3611436608324, 'FORD', 'TERRITORY')\n",
            "('Yuri Nunes', 65.14959112994678, 'FIAT', 'ARGO')\n",
            "('Natália Silveira', 65.01329943569225, 'VOLKSWAGEN', 'POLO')\n",
            "('Helena da Conceição', 64.8089826763059, 'CHEVROLET', 'CRUZE')\n",
            "('Lara Dias', 63.2584793521691, 'FORD', 'BRONCO SPORT')\n",
            "('Lorena Pinto', 62.42045004683585, 'AUDI', 'Q5')\n",
            "('Luiz Henrique Rodrigues', 62.27300637468236, 'FORD', 'TERRITORY')\n",
            "('Matheus Duarte', 62.21813170027932, 'VOLKSWAGEN', 'POLO')\n",
            "('Gustavo Henrique Ramos', 62.113321579592174, 'VOLKSWAGEN', 'POLO')\n",
            "('Yuri da Cruz', 61.627334208745665, 'JEEP', 'RENEGADE')\n",
            "('Beatriz Costa', 61.25281038511519, 'FIAT', 'ARGO')\n",
            "('Ana Sophia Cavalcanti', 61.074507563515276, 'CHEVROLET', 'ONIX')\n",
            "('Kevin Viana', 60.84595778973212, 'AUDI', 'A4')\n",
            "('Henrique da Mata', 60.5992732802508, 'MERCEDES', 'GLB SUV')\n",
            "('Esther Fogaça', 60.54022413162795, 'VOLKSWAGEN', 'POLO')\n",
            "('Mirella Lopes', 60.45806766216426, 'AUDI', 'Q5')\n",
            "('Renan da Rosa', 60.34129668562864, 'FORD', 'BRONCO SPORT')\n",
            "('Eduardo da Cunha', 57.779174897673045, 'CHEVROLET', 'ONIX')\n",
            "('Luana Alves', 57.76478322203182, 'MERCEDES', 'GLB SUV')\n",
            "('Luiz Henrique Ribeiro', 56.13210932673784, 'CHEVROLET', 'ONIX')\n",
            "('Francisco Rezende', 55.31068554391753, 'AUDI', 'Q5')\n",
            "('Ana Ferreira', 54.96385896949557, 'JEEP', 'WRANGLER')\n",
            "('Brenda Rodrigues', 54.36480227476496, 'CHEVROLET', 'ONIX')\n",
            "('Gustavo Lima', 53.559900574677, 'MERCEDES', 'GLA SUV')\n",
            "('Luana Pires', 52.91182927584327, 'MERCEDES', 'GLB SUV')\n",
            "('Lucas Gabriel Pinto', 52.76019636412368, 'FIAT', 'PULSE')\n",
            "('Bernardo Ramos', 52.39972874530757, 'JEEP', 'WRANGLER')\n",
            "('Sophia Fogaça', 52.10287071515053, 'MERCEDES', 'GLB SUV')\n",
            "('Danilo Barros', 51.71374450485184, 'FORD', 'BRONCO SPORT')\n",
            "('Enzo Gabriel Campos', 51.6640261999931, 'CHEVROLET', 'ONIX')\n",
            "('Emanuelly Mendes', 51.41195031059778, 'JEEP', 'WRANGLER')\n",
            "('Heitor Ferreira', 51.20416844171689, 'AUDI', 'A4')\n",
            "('Elisa Melo', 50.90751696099744, 'CHEVROLET', 'ONIX')\n",
            "('Lucas Gabriel Cardoso', 50.6992848776957, 'VOLKSWAGEN', 'POLO')\n",
            "('Cecília Carvalho', 50.5107588971965, 'VOLKSWAGEN', 'POLO')\n",
            "('Pietra Fernandes', 50.13749252023073, 'FORD', 'BRONCO SPORT')\n",
            "('Nicolas da Costa', 49.79074153183666, 'FIAT', 'PULSE')\n",
            "('Benjamin da Paz', 49.384334076420494, 'FIAT', 'ARGO')\n",
            "('Eloah Lopes', 49.070777556030976, 'MERCEDES', 'GLB SUV')\n",
            "('Enzo Gabriel da Cunha', 48.63860178938365, 'CHEVROLET', 'CRUZE')\n",
            "('Pedro Miguel Castro', 47.343702923262825, 'VOLKSWAGEN', 'JETTA')\n",
            "('Luiz Henrique da Paz', 47.14183201525258, 'JEEP', 'WRANGLER')\n",
            "('Manuela Nascimento', 47.05462422304697, 'VOLKSWAGEN', 'JETTA')\n",
            "('Isabelly Araújo', 46.907736853563726, 'JEEP', 'RENEGADE')\n",
            "('Sophia da Cruz', 46.16699100310774, 'JEEP', 'WRANGLER')\n",
            "('Davi Lima', 45.913682557616944, 'CHEVROLET', 'CRUZE')\n",
            "('Ana Clara Ramos', 44.74280075792682, 'JEEP', 'WRANGLER')\n",
            "('Sarah Sales', 44.264919252854405, 'MERCEDES', 'GLB SUV')\n",
            "('Vitória da Mata', 43.99024239954322, 'CHEVROLET', 'CRUZE')\n",
            "('Caroline Campos', 43.77849293413814, 'CHEVROLET', 'ONIX')\n",
            "('Nina Alves', 43.756501193652056, 'JEEP', 'RENEGADE')\n",
            "('Rafael Pires', 43.441311311168114, 'FIAT', 'ARGO')\n",
            "('Ana Sophia Freitas', 42.78309173167186, 'FIAT', 'ARGO')\n",
            "('Ana Lívia da Cunha', 40.478735884988346, 'FIAT', 'PULSE')\n",
            "('Vitor Vieira', 39.959556131849496, 'FIAT', 'PULSE')\n",
            "('Emanuel Carvalho', 39.445936140410396, 'FORD', 'TERRITORY')\n",
            "('Maria Fernanda Gomes', 39.12638506938078, 'FORD', 'BRONCO SPORT')\n",
            "('Lara Castro', 38.87700523465285, 'JEEP', 'RENEGADE')\n",
            "('Benício Mendes', 38.87220581598861, 'MERCEDES', 'GLA SUV')\n",
            "('Luiz Gustavo Pinto', 38.81837394650617, 'FIAT', 'PULSE')\n",
            "('Lorenzo Carvalho', 38.32824108234977, 'VOLKSWAGEN', 'POLO')\n",
            "('Guilherme Sales', 38.235411669964556, 'CHEVROLET', 'CRUZE')\n",
            "('Pedro Lucas Monteiro', 37.762397004693284, 'JEEP', 'RENEGADE')\n",
            "('Alexandre Gonçalves', 37.249437330099305, 'CHEVROLET', 'ONIX')\n",
            "('Ryan Rodrigues', 37.13973739323372, 'AUDI', 'Q5')\n",
            "('Ian Teixeira', 36.858972406488114, 'FORD', 'BRONCO SPORT')\n",
            "('Diogo Lima', 33.99655573693525, 'FORD', 'BRONCO SPORT')\n",
            "('Gustavo Gomes', 33.26281048734736, 'FORD', 'TERRITORY')\n",
            "('Juan Porto', 30.915600513096592, 'FIAT', 'ARGO')\n",
            "('Lorenzo Oliveira', 30.86121846055357, 'FIAT', 'PULSE')\n",
            "('Luiza Moura', 30.38754669821834, 'AUDI', 'A4')\n",
            "('Ana Sophia da Cruz', 29.463486282819602, 'FORD', 'TERRITORY')\n",
            "('Enrico Pinto', 28.244228430461035, 'VOLKSWAGEN', 'POLO')\n",
            "('Laís Gonçalves', 27.50195932994048, 'FORD', 'BRONCO SPORT')\n",
            "('Kaique Freitas', 26.466597496067518, 'CHEVROLET', 'ONIX')\n",
            "('Erick da Costa', 25.95978192649654, 'VOLKSWAGEN', 'JETTA')\n",
            "('Brenda Nascimento', 25.588210294488817, 'FORD', 'TERRITORY')\n",
            "('Maitê da Mota', 24.84368740382464, 'FIAT', 'ARGO')\n",
            "('Enzo Gabriel da Rocha', 24.28907822190516, 'FORD', 'BRONCO SPORT')\n",
            "('Sarah Teixeira', 24.107524438229174, 'FIAT', 'PULSE')\n",
            "('Maria Clara Freitas', 23.985608504565867, 'CHEVROLET', 'ONIX')\n",
            "('Kamilly Aragão', 23.86139194815458, 'MERCEDES', 'GLA SUV')\n",
            "('Raquel Nascimento', 23.619573688419052, 'MERCEDES', 'GLA SUV')\n",
            "('Melissa Rezende', 22.667130401921906, 'MERCEDES', 'GLA SUV')\n",
            "('Vitor Hugo Porto', 22.25334616584244, 'AUDI', 'Q5')\n",
            "('Ana Beatriz Cavalcanti', 22.089603409658455, 'FIAT', 'ARGO')\n",
            "('Thomas Sales', 20.55642453415115, 'VOLKSWAGEN', 'JETTA')\n",
            "('Renan Rezende', 20.220336409087917, 'MERCEDES', 'GLA SUV')\n",
            "('Bárbara Cardoso', 19.99307436317282, 'VOLKSWAGEN', 'JETTA')\n",
            "('Leonardo Santos', 19.927506195332803, 'AUDI', 'A4')\n",
            "('Maria Clara Lopes', 19.645311834950203, 'CHEVROLET', 'CRUZE')\n",
            "('Lucas Cardoso', 19.62414256046998, 'VOLKSWAGEN', 'POLO')\n",
            "('Sofia da Mata', 19.205368815734982, 'JEEP', 'WRANGLER')\n"
          ]
        }
      ]
    },
    {
      "cell_type": "markdown",
      "source": [
        "## *3.7 - CONSULTA 7*"
      ],
      "metadata": {
        "id": "NWmQmPNsizEE"
      }
    },
    {
      "cell_type": "code",
      "source": [
        "#3.7 Saber a media de idade dos clientes que alugaram carros\n",
        "\n",
        "con = cur.execute (f' select  round(avg(\"{data_atual}\"-cliente.nascimento),1) as media_idade from cliente;').fetchall()\n",
        "\n",
        "#Loop\n",
        "for Linha in con:\n",
        "  print (Linha)"
      ],
      "metadata": {
        "id": "yLk8jGoKixJ9",
        "colab": {
          "base_uri": "https://localhost:8080/"
        },
        "outputId": "df23d7eb-b107-4cf0-e141-61956424035f"
      },
      "execution_count": 35,
      "outputs": [
        {
          "output_type": "stream",
          "name": "stdout",
          "text": [
            "(45.1,)\n"
          ]
        }
      ]
    },
    {
      "cell_type": "markdown",
      "source": [
        "## *3.8 - CONSULTA 8*"
      ],
      "metadata": {
        "id": "boaHK3Ook5lc"
      }
    },
    {
      "cell_type": "code",
      "source": [
        "#3.8 Saber a média de idade dos clientes por fabricante\n",
        "\n",
        "vetor = []\n",
        "for i in fabricantes:\n",
        "  vetor.append(con)  \n",
        "  con = cur.execute (\n",
        "  f'''\n",
        "  select round(avg(\"{data_atual}\"-cliente.nascimento),0) as media_idade,  fabricante.nome_fabricante from cliente\n",
        "  inner join reserva on reserva.id_cliente = cliente.id_cliente\n",
        "  inner join veiculo on veiculo.id_veiculo = reserva.id_veiculo\n",
        "  inner join modelo on modelo.id_modelo = veiculo.id_modelo\n",
        "  inner join fabricante on fabricante.id_fabricante = modelo.id_fabricante\n",
        "  where fabricante.nome_fabricante == \"{i}\";  \n",
        "  '''\n",
        "  ).fetchall()\n",
        "\n",
        "vetor1= sorted(vetor, reverse = True)  \n",
        "for Linha in vetor1:\n",
        "  print(Linha)\n"
      ],
      "metadata": {
        "colab": {
          "base_uri": "https://localhost:8080/"
        },
        "id": "Q2BKh0ZtixUr",
        "outputId": "e9845fd7-2e73-429d-9c4c-5e3214dd72b1"
      },
      "execution_count": 47,
      "outputs": [
        {
          "output_type": "stream",
          "name": "stdout",
          "text": [
            "[(49.0, 'CHEVROLET')]\n",
            "[(47.0, 'AUDI')]\n",
            "[(45.0, 'JEEP')]\n",
            "[(44.0, 'MERCEDES')]\n",
            "[(44.0, 'FORD')]\n",
            "[(43.0, 'VOLKSWAGEN')]\n",
            "[(43.0, 'FIAT')]\n"
          ]
        }
      ]
    }
  ]
}